{
 "cells": [
  {
   "cell_type": "markdown",
   "id": "1e7daeed",
   "metadata": {},
   "source": [
    "# BCAUS"
   ]
  },
  {
   "cell_type": "markdown",
   "id": "17cc19e6",
   "metadata": {},
   "source": [
    "__Reference__: [Belthangady et al, Minimizing bias in massive multi-arm observational studies with BCAUS: balancing covariates automatically using supervision, BMC Medical Research Methodology 2021](https://bmcmedresmethodol.biomedcentral.com/articles/10.1186/s12874-021-01383-x)"
   ]
  },
  {
   "cell_type": "markdown",
   "id": "8ee4fc7d",
   "metadata": {},
   "source": [
    "## BCAUS on IHDP"
   ]
  },
  {
   "cell_type": "code",
   "execution_count": 1,
   "id": "596d66eb",
   "metadata": {
    "execution": {
     "iopub.execute_input": "2023-06-12T22:16:45.189713Z",
     "iopub.status.busy": "2023-06-12T22:16:45.189401Z",
     "iopub.status.idle": "2023-06-12T22:18:05.190600Z",
     "shell.execute_reply": "2023-06-12T22:18:05.189776Z",
     "shell.execute_reply.started": "2023-06-12T22:16:45.189696Z"
    },
    "tags": []
   },
   "outputs": [
    {
     "name": "stderr",
     "output_type": "stream",
     "text": [
      "/home/jovyan/my-conda-envs/causalforge/lib/python3.11/site-packages/tqdm/auto.py:21: TqdmWarning: IProgress not found. Please update jupyter and ipywidgets. See https://ipywidgets.readthedocs.io/en/stable/user_install.html\n",
      "  from .autonotebook import tqdm as notebook_tqdm\n"
     ]
    }
   ],
   "source": [
    "import logging, sys\n",
    "from causalforge.model import Model , PROBLEM_TYPE\n",
    "from causalforge.data_loader import DataLoader \n",
    "\n",
    "# logger \n",
    "root = logging.getLogger()\n",
    "root.setLevel(logging.DEBUG)\n",
    "\n",
    "handler = logging.StreamHandler(sys.stdout)\n",
    "handler.setLevel(logging.DEBUG)\n",
    "formatter = logging.Formatter('%(asctime)s - %(name)s - %(levelname)s - %(message)s')\n",
    "handler.setFormatter(formatter)\n",
    "root.addHandler(handler)\n",
    "\n",
    "# load IHDP dataset \n",
    "r = DataLoader.get_loader('IHDP').load()\n",
    "X_tr, T_tr, YF_tr, YCF_tr, mu_0_tr, mu_1_tr, X_te, T_te, YF_te, YCF_te, mu_0_te, mu_1_te = r\n",
    "\n",
    "# model params \n",
    "params={}\n",
    "params['random_state']= 271\n",
    "params['learning_rate_init']= 0.001\n",
    "params['nu']= 1\n",
    "params['max_iter']= 100\n",
    "params['alpha']= 0.0\n",
    "params['dropout']= 0\n",
    "params['eps']= 1e-5\n",
    "params['n_iter_no_change']= 10\n",
    "params['balance_threshold']= 0.1\n",
    "params['verbose'] = True \n",
    "params['logger'] = logging.getLogger(\"BCAUS_DR\")\n",
    "\n",
    "# model \n",
    "bcaus_dr = Model.create_model(\"bcaus_dr\",\n",
    "                               params,\n",
    "                               problem_type=PROBLEM_TYPE.CAUSAL_TREATMENT_EFFECT_ESTIMATION, \n",
    "                               multiple_treatments=False)\n",
    "\n"
   ]
  },
  {
   "cell_type": "code",
   "execution_count": 3,
   "id": "6029ecee",
   "metadata": {
    "execution": {
     "iopub.execute_input": "2023-06-12T22:23:58.236475Z",
     "iopub.status.busy": "2023-06-12T22:23:58.235840Z",
     "iopub.status.idle": "2023-06-12T22:23:59.985028Z",
     "shell.execute_reply": "2023-06-12T22:23:59.984475Z",
     "shell.execute_reply.started": "2023-06-12T22:23:58.236454Z"
    },
    "tags": []
   },
   "outputs": [
    {
     "name": "stdout",
     "output_type": "stream",
     "text": [
      "2023-06-12 22:23:58,406 - BCAUS_DR - INFO - Epoch =0: Propensity Loss =0.5607155561447144, Covariate Loss =0.013271916657686234, Balanced covs =9\n",
      "2023-06-12 22:23:58,510 - BCAUS_DR - INFO - Epoch =50: Propensity Loss =0.4898112714290619, Covariate Loss =0.00039600743912160397, Balanced covs =23\n",
      "2023-06-12 22:23:58,612 - BCAUS_DR - INFO - Number of balanced covariates at end of training:23\n",
      "2023-06-12 22:23:58,920 - BCAUS_DR - INFO - Epoch =0: Propensity Loss =0.5610273480415344, Covariate Loss =0.012001270428299904, Balanced covs =10\n",
      "2023-06-12 22:23:59,024 - BCAUS_DR - INFO - Epoch =50: Propensity Loss =0.486632764339447, Covariate Loss =0.00046170808491297066, Balanced covs =21\n",
      "2023-06-12 22:23:59,126 - BCAUS_DR - INFO - Number of balanced covariates at end of training:24\n",
      "2023-06-12 22:23:59,587 - BCAUS_DR - INFO - Epoch =0: Propensity Loss =0.5617637634277344, Covariate Loss =0.011508172377943993, Balanced covs =9\n",
      "2023-06-12 22:23:59,690 - BCAUS_DR - INFO - Epoch =50: Propensity Loss =0.49436450004577637, Covariate Loss =0.00041539131780155003, Balanced covs =22\n",
      "2023-06-12 22:23:59,792 - BCAUS_DR - INFO - Number of balanced covariates at end of training:24\n"
     ]
    }
   ],
   "source": [
    "from causalforge.metrics import eps_ATE_diff, PEHE_with_ite\n",
    "import numpy as np\n",
    "\n",
    "experiment_ids = [1,10,400]\n",
    "\n",
    "eps_ATE_tr, eps_ATE_te = [], []\n",
    "eps_PEHE_tr, eps_PEHE_te = [] , [] \n",
    "\n",
    "\n",
    "\n",
    "for idx in experiment_ids:    \n",
    "    t_tr, y_tr, x_tr, mu0tr, mu1tr = T_tr[:,idx] , YF_tr[:,idx], X_tr[:,:,idx], mu_0_tr[:,idx], mu_1_tr[:,idx] \n",
    "    t_te, y_te, x_te, mu0te, mu1te = T_te[:,idx] , YF_te[:,idx], X_te[:,:,idx], mu_0_te[:,idx], mu_1_te[:,idx]  \n",
    "    \n",
    "    \n",
    "    # Train your causal method on train-set ...\n",
    "    bcaus_dr.fit(x_tr,t_tr,y_tr)\n",
    "\n",
    "    # Validate your method test-set ... \n",
    "    ATE_truth_tr = (mu1tr - mu0tr).mean()\n",
    "    ATE_truth_te = (mu1te - mu0te).mean()\n",
    "    \n",
    "    eps_ATE_tr.append( eps_ATE_diff( bcaus_dr.predict_ate(x_tr,t_tr,y_tr), ATE_truth_tr) )\n",
    "    eps_ATE_te.append( eps_ATE_diff( bcaus_dr.predict_ate(x_te,t_te,y_te), ATE_truth_te) )\n",
    "        "
   ]
  },
  {
   "cell_type": "markdown",
   "id": "c66a1f16",
   "metadata": {},
   "source": [
    "## Results "
   ]
  },
  {
   "cell_type": "code",
   "execution_count": 4,
   "id": "a0974708-761f-4797-96f7-840dc163ed20",
   "metadata": {
    "execution": {
     "iopub.execute_input": "2023-06-12T22:24:04.513711Z",
     "iopub.status.busy": "2023-06-12T22:24:04.513044Z",
     "iopub.status.idle": "2023-06-12T22:24:04.518701Z",
     "shell.execute_reply": "2023-06-12T22:24:04.518275Z",
     "shell.execute_reply.started": "2023-06-12T22:24:04.513693Z"
    },
    "tags": []
   },
   "outputs": [
    {
     "data": {
      "text/plain": [
       "False"
      ]
     },
     "execution_count": 4,
     "metadata": {},
     "output_type": "execute_result"
    }
   ],
   "source": [
    "bcaus_dr.support_ite()"
   ]
  },
  {
   "cell_type": "code",
   "execution_count": 5,
   "id": "d30ec2f1",
   "metadata": {
    "execution": {
     "iopub.execute_input": "2023-06-12T22:24:23.111871Z",
     "iopub.status.busy": "2023-06-12T22:24:23.111647Z",
     "iopub.status.idle": "2023-06-12T22:24:23.240429Z",
     "shell.execute_reply": "2023-06-12T22:24:23.239967Z",
     "shell.execute_reply.started": "2023-06-12T22:24:23.111856Z"
    },
    "tags": []
   },
   "outputs": [
    {
     "data": {
      "text/html": [
       "<div>\n",
       "<style scoped>\n",
       "    .dataframe tbody tr th:only-of-type {\n",
       "        vertical-align: middle;\n",
       "    }\n",
       "\n",
       "    .dataframe tbody tr th {\n",
       "        vertical-align: top;\n",
       "    }\n",
       "\n",
       "    .dataframe thead th {\n",
       "        text-align: right;\n",
       "    }\n",
       "</style>\n",
       "<table border=\"1\" class=\"dataframe\">\n",
       "  <thead>\n",
       "    <tr style=\"text-align: right;\">\n",
       "      <th></th>\n",
       "      <th>eps_ATE_tr</th>\n",
       "      <th>eps_ATE_te</th>\n",
       "    </tr>\n",
       "  </thead>\n",
       "  <tbody>\n",
       "    <tr>\n",
       "      <th>BCAUS_DR</th>\n",
       "      <td>0.012933</td>\n",
       "      <td>0.260822</td>\n",
       "    </tr>\n",
       "  </tbody>\n",
       "</table>\n",
       "</div>"
      ],
      "text/plain": [
       "          eps_ATE_tr  eps_ATE_te\n",
       "BCAUS_DR    0.012933    0.260822"
      ]
     },
     "execution_count": 5,
     "metadata": {},
     "output_type": "execute_result"
    }
   ],
   "source": [
    "import pandas as pd \n",
    "\n",
    "pd.DataFrame([[np.mean(eps_ATE_tr),np.mean(eps_ATE_te)]],\n",
    "             columns=['eps_ATE_tr','eps_ATE_te'], \n",
    "             index=['BCAUS_DR'])"
   ]
  },
  {
   "cell_type": "markdown",
   "id": "8347d021-51fe-4554-9a32-d1c27cdc706e",
   "metadata": {
    "execution": {
     "iopub.execute_input": "2023-06-12T22:28:58.250429Z",
     "iopub.status.busy": "2023-06-12T22:28:58.250023Z",
     "iopub.status.idle": "2023-06-12T22:28:58.259877Z",
     "shell.execute_reply": "2023-06-12T22:28:58.259298Z",
     "shell.execute_reply.started": "2023-06-12T22:28:58.250411Z"
    }
   },
   "source": [
    "# BCAUS on IHDP\n",
    "**BCAUS** is a propensity score estimator ($P\\{T=1|X=x\\}$), while **BCAUS_DR** is a causal treatment effect estimator \n",
    "(not at individual level) "
   ]
  },
  {
   "cell_type": "code",
   "execution_count": 7,
   "id": "d823c757-d57f-41fc-8fe3-e74292459717",
   "metadata": {
    "execution": {
     "iopub.execute_input": "2023-06-12T22:49:22.373591Z",
     "iopub.status.busy": "2023-06-12T22:49:22.373199Z",
     "iopub.status.idle": "2023-06-12T22:49:22.378782Z",
     "shell.execute_reply": "2023-06-12T22:49:22.378134Z",
     "shell.execute_reply.started": "2023-06-12T22:49:22.373572Z"
    }
   },
   "outputs": [],
   "source": [
    "from sklearn import metrics\n",
    "\n",
    "def compute_auc(x_te,t_te):\n",
    "        pred_test_propensity =  bcaus.predict_proba(x_te)\n",
    "        \n",
    "        for i in range(pred_test_propensity.shape[0]):\n",
    "            assert pred_test_propensity[i][0]+pred_test_propensity[i][1] == 1.0 \n",
    "            \n",
    "        pred_1 = np.apply_along_axis(lambda x: x[1], 1, pred_test_propensity)\n",
    "        fpr, tpr, thresholds = metrics.roc_curve(t_te, pred_1)\n",
    "        AUC_te = metrics.auc(fpr, tpr)\n",
    "        return AUC_te\n",
    "    \n",
    "    \n",
    "bcaus = Model.create_model(\"bcaus\", \n",
    "                           params,\n",
    "                           problem_type=PROBLEM_TYPE.PROPENSITY_ESTIMATION, \n",
    "                           multiple_treatments=False)\n",
    "# model params \n",
    "params={}\n",
    "params['random_state']= 271\n",
    "params['learning_rate_init']= 0.001\n",
    "params['nu']= 1\n",
    "params['max_iter']= 100\n",
    "params['alpha']= 0.0\n",
    "params['dropout']= 0\n",
    "params['eps']= 1e-5\n",
    "params['n_iter_no_change']= 10\n",
    "params['balance_threshold']= 0.1\n",
    "params['verbose'] = True \n",
    "params['logger'] = logging.getLogger(\"BCAUS\")\n",
    "\n"
   ]
  },
  {
   "cell_type": "code",
   "execution_count": 8,
   "id": "d5db2de9-8a51-4a48-9f22-5a1e08e32eeb",
   "metadata": {
    "execution": {
     "iopub.execute_input": "2023-06-12T22:50:00.287763Z",
     "iopub.status.busy": "2023-06-12T22:50:00.287536Z",
     "iopub.status.idle": "2023-06-12T22:50:00.678420Z",
     "shell.execute_reply": "2023-06-12T22:50:00.677943Z",
     "shell.execute_reply.started": "2023-06-12T22:50:00.287748Z"
    }
   },
   "outputs": [
    {
     "name": "stdout",
     "output_type": "stream",
     "text": [
      "2023-06-12 22:50:00,462 - BCAUS_DR - INFO - Epoch =0: Propensity Loss =0.5607155561447144, Covariate Loss =0.013271916657686234, Balanced covs =9\n",
      "2023-06-12 22:50:00,567 - BCAUS_DR - INFO - Epoch =50: Propensity Loss =0.4898112714290619, Covariate Loss =0.00039600743912160397, Balanced covs =23\n",
      "2023-06-12 22:50:00,669 - BCAUS_DR - INFO - Number of balanced covariates at end of training:23\n",
      "*******************************************************************\n",
      "         AUC_tr    AUC_te\n",
      "BCAUS  0.718298  0.634921\n",
      "*******************************************************************\n"
     ]
    }
   ],
   "source": [
    "# train\n",
    "idx = 1 \n",
    "t_tr, y_tr, x_tr, mu0tr, mu1tr = T_tr[:,idx] , YF_tr[:,idx], X_tr[:,:,idx], mu_0_tr[:,idx], mu_1_tr[:,idx]\n",
    "t_te, y_te, x_te, mu0te, mu1te = T_te[:,idx] , YF_te[:,idx], X_te[:,:,idx], mu_0_te[:,idx], mu_1_te[:,idx]\n",
    "\n",
    "bcaus.fit(x_tr,t_tr)\n",
    "\n",
    "# test \n",
    "AUC_tr = compute_auc(x_tr,t_tr)\n",
    "AUC_te = compute_auc(x_te,t_te)\n",
    "\n",
    "print(\"*******************************************************************\")\n",
    "print(pd.DataFrame([[AUC_tr,AUC_te]],\n",
    "         columns=['AUC_tr','AUC_te'],\n",
    "         index=['BCAUS']))\n",
    "print(\"*******************************************************************\")"
   ]
  },
  {
   "cell_type": "code",
   "execution_count": null,
   "id": "a9802b45-ae7e-4dc5-8b58-d06bc8fad6d0",
   "metadata": {},
   "outputs": [],
   "source": []
  }
 ],
 "metadata": {
  "kernelspec": {
   "display_name": "Python [conda env:causalforge]",
   "language": "python",
   "name": "conda-env-causalforge-py"
  },
  "language_info": {
   "codemirror_mode": {
    "name": "ipython",
    "version": 3
   },
   "file_extension": ".py",
   "mimetype": "text/x-python",
   "name": "python",
   "nbconvert_exporter": "python",
   "pygments_lexer": "ipython3",
   "version": "3.11.3"
  }
 },
 "nbformat": 4,
 "nbformat_minor": 5
}
